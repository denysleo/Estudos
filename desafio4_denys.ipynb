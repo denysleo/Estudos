{
  "nbformat": 4,
  "nbformat_minor": 0,
  "metadata": {
    "colab": {
      "name": "desafio4_denys.ipynb",
      "provenance": [],
      "collapsed_sections": [],
      "authorship_tag": "ABX9TyOtTDFA/4o9WZQaK+OEWKAC",
      "include_colab_link": true
    },
    "kernelspec": {
      "name": "python3",
      "display_name": "Python 3"
    },
    "language_info": {
      "name": "python"
    }
  },
  "cells": [
    {
      "cell_type": "markdown",
      "metadata": {
        "id": "view-in-github",
        "colab_type": "text"
      },
      "source": [
        "<a href=\"https://colab.research.google.com/github/denysleo/Estudos/blob/main/desafio4_denys.ipynb\" target=\"_parent\"><img src=\"https://colab.research.google.com/assets/colab-badge.svg\" alt=\"Open In Colab\"/></a>"
      ]
    },
    {
      "cell_type": "code",
      "execution_count": null,
      "metadata": {
        "id": "xOF8n8l00heH",
        "colab": {
          "base_uri": "https://localhost:8080/"
        },
        "outputId": "ae1799a1-bd38-4d3e-e3f6-dff275f88d73"
      },
      "outputs": [
        {
          "output_type": "stream",
          "name": "stdout",
          "text": [
            "digite os 5 numeros que vão compor o vetor:\n",
            "numero1:\n",
            "5\n",
            "['5']\n",
            "numero2:\n",
            "6\n",
            "['5', '6']\n",
            "numero3:\n",
            "7\n",
            "['5', '6', '7']\n",
            "numero4:\n",
            "8\n",
            "['5', '6', '7', '8']\n",
            "numero5:\n",
            "15\n",
            "['5', '6', '7', '8', '15']\n"
          ]
        }
      ],
      "source": [
        "vetor=[]\n",
        "print('digite os 5 numeros que vão compor o vetor:')\n",
        "for n in range(5):\n",
        "  vetor.append(input('numero'+str(n+1)+':\\n'))\n",
        "  print(vetor)\n"
      ]
    },
    {
      "cell_type": "code",
      "source": [
        "vetor=[]\n",
        "print('informe os 10 numeros reais:')\n",
        "for n in range(10):\n",
        "  vetor.append(input('numero'+str(n+1)+':\\n'))\n",
        "vetor.reverse()\n",
        "print(vetor)"
      ],
      "metadata": {
        "colab": {
          "base_uri": "https://localhost:8080/"
        },
        "id": "EdV-77eIHOGl",
        "outputId": "b9d5744d-4c9b-45d2-f3c9-e658bdcdfae7"
      },
      "execution_count": null,
      "outputs": [
        {
          "output_type": "stream",
          "name": "stdout",
          "text": [
            "informe os 10 numeros reais:\n",
            "numero1:\n",
            "5\n",
            "numero2:\n",
            "6\n",
            "numero3:\n",
            "9\n",
            "numero4:\n",
            "45\n",
            "numero5:\n",
            "15\n",
            "numero6:\n",
            "4\n",
            "numero7:\n",
            "66\n",
            "numero8:\n",
            "8\n",
            "numero9:\n",
            "7\n",
            "numero10:\n",
            "8\n",
            "['8', '7', '8', '66', '4', '15', '45', '9', '6', '5']\n"
          ]
        }
      ]
    },
    {
      "cell_type": "code",
      "source": [
        "notas=[]\n",
        "for n in range(0,4):\n",
        "  nr= float(input(\"digite a nota:\"))\n",
        "  notas.append(nr)\n",
        "print(notas)\n",
        "print('sua média foi de:'+\" \"+str(sum(notas)/4))\n",
        "  "
      ],
      "metadata": {
        "id": "i7kA0b5TIvJ9",
        "colab": {
          "base_uri": "https://localhost:8080/"
        },
        "outputId": "a66cce2c-eb4c-4bfb-daec-d9cde7ad6ca9"
      },
      "execution_count": null,
      "outputs": [
        {
          "output_type": "stream",
          "name": "stdout",
          "text": [
            "digite o número:5\n",
            "digite o número:8\n",
            "digite o número:9\n",
            "digite o número:4\n",
            "[5.0, 8.0, 9.0, 4.0]\n",
            "sua média foi de: 6.5\n"
          ]
        }
      ]
    },
    {
      "cell_type": "code",
      "source": [
        ""
      ],
      "metadata": {
        "id": "pAfg7sscJ5Pk"
      },
      "execution_count": null,
      "outputs": []
    },
    {
      "cell_type": "code",
      "source": [
        "numeros=[]\n",
        "par=[]\n",
        "impar=[]\n",
        "for n in range(20):\n",
        "   nr =int(input(\"digite o numero:\"+str(n+1)+'\\n'))\n",
        "   numeros.append(nr) \n",
        "print(numeros)\n",
        "for n in range(0,len(numeros)):\n",
        "  if(numeros[n]%2 == 0):\n",
        "     par.append(numeros[n])\n",
        "  else:\n",
        "     impar.append(numeros[n])\n",
        "print('os numeros pares sao:'+str(par))\n",
        "print('os numeros impares sao'+str(impar))"
      ],
      "metadata": {
        "colab": {
          "base_uri": "https://localhost:8080/"
        },
        "id": "2wdMUhwBbBN3",
        "outputId": "70f7b7d0-27db-4a89-95dc-b2765fbee07e"
      },
      "execution_count": null,
      "outputs": [
        {
          "output_type": "stream",
          "name": "stdout",
          "text": [
            "digite o numero:1\n",
            "2\n",
            "digite o numero:2\n",
            "4\n",
            "digite o numero:3\n",
            "7\n",
            "digite o numero:4\n",
            "6\n",
            "digite o numero:5\n",
            "9\n",
            "digite o numero:6\n",
            "5\n",
            "digite o numero:7\n",
            "7\n",
            "digite o numero:8\n",
            "1\n",
            "digite o numero:9\n",
            "4\n",
            "digite o numero:10\n",
            "7\n",
            "digite o numero:11\n",
            "6\n",
            "digite o numero:12\n",
            "9\n",
            "digite o numero:13\n",
            "7\n",
            "digite o numero:14\n",
            "5\n",
            "digite o numero:15\n",
            "6\n",
            "digite o numero:16\n",
            "8\n",
            "digite o numero:17\n",
            "5\n",
            "digite o numero:18\n",
            "2\n",
            "digite o numero:19\n",
            "7\n",
            "digite o numero:20\n",
            "4\n",
            "[2, 4, 7, 6, 9, 5, 7, 1, 4, 7, 6, 9, 7, 5, 6, 8, 5, 2, 7, 4]\n",
            "os numeros pares sao:[2, 4, 6, 4, 6, 6, 8, 2, 4]\n",
            "os numeros impares sao[7, 9, 5, 7, 1, 7, 9, 7, 5, 5, 7]\n"
          ]
        }
      ]
    },
    {
      "cell_type": "code",
      "source": [
        "vetornotas = []\n",
        "alunosnotas = []\n",
        "print('notas')\n",
        "for n in range(10):\n",
        "  media=0\n",
        "  alunosnotas= []\n",
        "  print('Aluno: '+str(n+1))\n",
        "  for i in range(4):\n",
        "   alunosnotas.append(float(input('nota:'+str(i+1)+\"\\n\")))\n",
        "   media = media+ alunosnotas[i] \n",
        "  media=media/4\n",
        "  print('media do aluno:'+' '+str(media))\n",
        "  vetornotas.append(media)\n",
        "print(vetornotas)"
      ],
      "metadata": {
        "id": "WQ9kZuqKIqbV",
        "colab": {
          "base_uri": "https://localhost:8080/"
        },
        "outputId": "25599083-7ee0-4b50-bc28-0b51f9a82fda"
      },
      "execution_count": 19,
      "outputs": [
        {
          "output_type": "stream",
          "name": "stdout",
          "text": [
            "notas\n",
            "Aluno: 1\n",
            "nota:1\n",
            "8\n",
            "nota:2\n",
            "4\n",
            "nota:3\n",
            "4\n",
            "nota:4\n",
            "8\n",
            "media do aluno: 6.0\n",
            "Aluno: 2\n",
            "nota:1\n",
            "9\n",
            "nota:2\n",
            "9\n",
            "nota:3\n",
            "9\n",
            "nota:4\n",
            "9\n",
            "media do aluno: 9.0\n",
            "Aluno: 3\n",
            "nota:1\n",
            "6\n",
            "nota:2\n",
            "4\n",
            "nota:3\n",
            "9\n",
            "nota:4\n",
            "3\n",
            "media do aluno: 5.5\n",
            "Aluno: 4\n",
            "nota:1\n",
            "9\n",
            "nota:2\n",
            "8\n",
            "nota:3\n",
            "7\n",
            "nota:4\n",
            "6\n",
            "media do aluno: 7.5\n",
            "Aluno: 5\n",
            "nota:1\n",
            "5\n",
            "nota:2\n",
            "5\n",
            "nota:3\n",
            "5\n",
            "nota:4\n",
            "5\n",
            "media do aluno: 5.0\n",
            "Aluno: 6\n",
            "nota:1\n",
            "7\n",
            "nota:2\n",
            "9\n",
            "nota:3\n",
            "3\n",
            "nota:4\n",
            "1\n",
            "media do aluno: 5.0\n",
            "Aluno: 7\n",
            "nota:1\n",
            "1\n",
            "nota:2\n",
            "1\n",
            "nota:3\n",
            "1\n",
            "nota:4\n",
            "1\n",
            "media do aluno: 1.0\n",
            "Aluno: 8\n",
            "nota:1\n",
            "8\n",
            "nota:2\n",
            "8\n",
            "nota:3\n",
            "8\n",
            "nota:4\n",
            "4\n",
            "media do aluno: 7.0\n",
            "Aluno: 9\n",
            "nota:1\n",
            "9\n",
            "nota:2\n",
            "8\n",
            "nota:3\n",
            "7\n",
            "nota:4\n",
            "4\n",
            "media do aluno: 7.0\n",
            "Aluno: 10\n",
            "nota:1\n",
            "6\n",
            "nota:2\n",
            "5\n",
            "nota:3\n",
            "6\n",
            "nota:4\n",
            "6\n",
            "media do aluno: 5.75\n",
            "[6.0, 9.0, 5.5, 7.5, 5.0, 5.0, 1.0, 7.0, 7.0, 5.75]\n"
          ]
        }
      ]
    },
    {
      "cell_type": "code",
      "source": [
        ""
      ],
      "metadata": {
        "id": "kvZcuYHL6VNK"
      },
      "execution_count": null,
      "outputs": []
    }
  ]
}