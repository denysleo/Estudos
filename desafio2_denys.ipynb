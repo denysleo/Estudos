{
  "nbformat": 4,
  "nbformat_minor": 0,
  "metadata": {
    "colab": {
      "name": "desafio2_denys.ipynb",
      "provenance": [],
      "collapsed_sections": [],
      "authorship_tag": "ABX9TyM0aUxTCOOcuGbX1PB3x9n7",
      "include_colab_link": true
    },
    "kernelspec": {
      "name": "python3",
      "display_name": "Python 3"
    },
    "language_info": {
      "name": "python"
    }
  },
  "cells": [
    {
      "cell_type": "markdown",
      "metadata": {
        "id": "view-in-github",
        "colab_type": "text"
      },
      "source": [
        "<a href=\"https://colab.research.google.com/github/denysleo/Estudos/blob/main/desafio2_denys.ipynb\" target=\"_parent\"><img src=\"https://colab.research.google.com/assets/colab-badge.svg\" alt=\"Open In Colab\"/></a>"
      ]
    },
    {
      "cell_type": "code",
      "execution_count": null,
      "metadata": {
        "colab": {
          "base_uri": "https://localhost:8080/"
        },
        "id": "mLGxQYvY9ts7",
        "outputId": "d237664a-0223-4f89-d20f-450a2f8efe5a"
      },
      "outputs": [
        {
          "output_type": "stream",
          "name": "stdout",
          "text": [
            "digite o primeiro número:5\n",
            "digite o segundo número:4\n",
            "5.0\n"
          ]
        }
      ],
      "source": [
        "num1= float(input('digite o primeiro número:'))\n",
        "num2 = float(input('digite o segundo número:'))\n",
        "if(num1>num2):\n",
        "  print(num1)\n",
        "else:\n",
        "  print(num2)"
      ]
    },
    {
      "cell_type": "code",
      "source": [
        "valor= float(input('digite um valor:'))\n",
        "if(valor >.0 or valor == 0):\n",
        "  print('o valor é positivo')\n",
        "else:\n",
        "  print('o valor é negativo')"
      ],
      "metadata": {
        "colab": {
          "base_uri": "https://localhost:8080/"
        },
        "id": "b_eIh8TS_dkL",
        "outputId": "8f3093f8-8bdf-46b7-d74a-ba89e7140225"
      },
      "execution_count": null,
      "outputs": [
        {
          "output_type": "stream",
          "name": "stdout",
          "text": [
            "digite um valor:0\n",
            "o valor é positivo\n"
          ]
        }
      ]
    },
    {
      "cell_type": "code",
      "source": [
        "sexo= input('digite a inicial do seu sexo:')\n",
        "if(sexo == 'M'or sexo =='m'):\n",
        "  print('masculino')\n",
        "elif(sexo == 'F'or sexo == 'f'):\n",
        "  print('feminino')\n",
        "else:\n",
        "  print('sexo inválido')\n",
        "   "
      ],
      "metadata": {
        "colab": {
          "base_uri": "https://localhost:8080/"
        },
        "id": "Mkhr39zi_5kL",
        "outputId": "39a91831-b416-4171-cc3d-cd58ea76b111"
      },
      "execution_count": null,
      "outputs": [
        {
          "output_type": "stream",
          "name": "stdout",
          "text": [
            "digite a inicial do seu sexo:w\n",
            "sexo inválido\n"
          ]
        }
      ]
    },
    {
      "cell_type": "code",
      "source": [
        "z= input('digite uma letra:')\n",
        "if (z=='a' or z=='e' or z=='i'or z=='o' or z=='u'):\n",
        "  print('vogal')\n",
        "else:\n",
        "  print('consoante')\n"
      ],
      "metadata": {
        "colab": {
          "base_uri": "https://localhost:8080/"
        },
        "id": "0WJ2RgSpBUoA",
        "outputId": "d9136d69-7902-4c6d-9d27-df91a7849455"
      },
      "execution_count": null,
      "outputs": [
        {
          "output_type": "stream",
          "name": "stdout",
          "text": [
            "digite uma letra:b\n",
            "consoante\n"
          ]
        }
      ]
    },
    {
      "cell_type": "code",
      "source": [
        "lista =[]\n",
        "for n in range(3):\n",
        "  numero = float(input('digite os 3 números:'))\n",
        "  lista.append(numero)\n",
        "maximo = max(lista)\n",
        "print('o maior número é:'+''+str(maximo))\n",
        "\n",
        "  "
      ],
      "metadata": {
        "id": "YVzkC4y1CEAy",
        "colab": {
          "base_uri": "https://localhost:8080/"
        },
        "outputId": "7231a6ff-2770-4c32-f33f-7d54b2271fe8"
      },
      "execution_count": 15,
      "outputs": [
        {
          "output_type": "stream",
          "name": "stdout",
          "text": [
            "digite os 3 números:10\n",
            "digite os 3 números:5\n",
            "digite os 3 números:9\n",
            "o maior número é:10.0\n"
          ]
        }
      ]
    },
    {
      "cell_type": "code",
      "source": [
        "lista= []\n",
        "for n in range(3):\n",
        "  numero = float(input('digite os 3 números:'))\n",
        "  lista.append(numero)\n",
        "maximo = max(lista)\n",
        "minimo = min(lista)\n",
        "print('o número máximo é:'+''+ str(maximo))\n",
        "print('o número mínimo é:'+''+str(minimo))"
      ],
      "metadata": {
        "colab": {
          "base_uri": "https://localhost:8080/"
        },
        "id": "H1Jdb8sIJj5M",
        "outputId": "5a703b36-3621-494b-ed84-d47b0f11b2ce"
      },
      "execution_count": 16,
      "outputs": [
        {
          "output_type": "stream",
          "name": "stdout",
          "text": [
            "digite os 3 números:9\n",
            "digite os 3 números:4\n",
            "digite os 3 números:122\n",
            "o número máximo é:122.0\n",
            "o número mínimo é:4.0\n"
          ]
        }
      ]
    },
    {
      "cell_type": "code",
      "source": [
        "lista= []\n",
        "for n in range(3):\n",
        "  produtos = float(input('digite o valor dos 3 produtos:'))\n",
        "  lista.append(produtos)\n",
        "minimo = min(lista)\n",
        "print('o produto que você deve comprar é o de valor:'+''+str(minimo))"
      ],
      "metadata": {
        "colab": {
          "base_uri": "https://localhost:8080/"
        },
        "id": "bXilI7ChKRU4",
        "outputId": "35e7f517-e475-4d62-b820-e44611f54f4e"
      },
      "execution_count": 18,
      "outputs": [
        {
          "output_type": "stream",
          "name": "stdout",
          "text": [
            "digite o valor dos 3 produtos:120\n",
            "digite o valor dos 3 produtos:40\n",
            "digite o valor dos 3 produtos:900\n",
            "o produto que você deve comprar é o de valor:40.0\n"
          ]
        }
      ]
    },
    {
      "cell_type": "code",
      "source": [
        "lista= []\n",
        "for n in range(3):\n",
        "  numeros= float(input('digite os 3 números:'))\n",
        "  lista.append(numeros9)\n",
        "lista.sort(reverse = True)\n",
        "print(lista)"
      ],
      "metadata": {
        "colab": {
          "base_uri": "https://localhost:8080/"
        },
        "id": "Q_p9CH7tKj1a",
        "outputId": "268ef41a-ad18-430b-f149-2c3265b80fe5"
      },
      "execution_count": 21,
      "outputs": [
        {
          "output_type": "stream",
          "name": "stdout",
          "text": [
            "digite os 3 números:5\n",
            "digite os 3 números:9\n",
            "digite os 3 números:1\n",
            "[9.0, 5.0, 1.0]\n"
          ]
        }
      ]
    },
    {
      "cell_type": "code",
      "source": [
        "print('digite o turno que você estuda:'+'\\n'+'M-Matutino'+'\\n'+'V-Vespertino'+'\\n'+'N-Noturno')\n",
        "turno = input()\n",
        "if(turno== 'M'or turno=='m'):\n",
        "  print('Bom dia')\n",
        "elif(turno == 'V' or turno =='v'):\n",
        "  print('Boa tarde')\n",
        "elif(turno == 'N'or turno == 'n'):\n",
        "  print('Boa noite')\n",
        "else:\n",
        "  print('Valor invalido')"
      ],
      "metadata": {
        "colab": {
          "base_uri": "https://localhost:8080/"
        },
        "id": "eesMoH93LNKl",
        "outputId": "dc085063-b9e6-44c3-bdee-d270295aff2b"
      },
      "execution_count": 26,
      "outputs": [
        {
          "output_type": "stream",
          "name": "stdout",
          "text": [
            "digite o turno que você estuda:\n",
            "M-Matutino\n",
            "V-Vespertino\n",
            "N-Noturno\n",
            "w\n",
            "Valor invalido\n"
          ]
        }
      ]
    },
    {
      "cell_type": "code",
      "source": [
        "ano = float(input('digite o ano:'))\n",
        "if (ano%4 ==0):\n",
        "  print('ano bissexto')\n",
        "else:\n",
        "  print('não é um ano bissexto')"
      ],
      "metadata": {
        "colab": {
          "base_uri": "https://localhost:8080/"
        },
        "id": "c-peTbh4MY-0",
        "outputId": "72c8bc29-68e6-432c-9035-36ee3c0441f9"
      },
      "execution_count": 31,
      "outputs": [
        {
          "output_type": "stream",
          "name": "stdout",
          "text": [
            "digite o ano:2012\n",
            "ano bissexto\n"
          ]
        }
      ]
    },
    {
      "cell_type": "code",
      "source": [
        "dia = int(input('digite o dia:'))\n",
        "mes = int(input('digite o mes:'))\n",
        "ano = int(input('digite o ano:'))\n",
        "valido = False\n",
        "if(mes == 1 or mes == 3 or mes ==5 or mes ==7 or  mes ==8 or mes ==10 or mes ==12):\n",
        "   if(dia<= 31):\n",
        "     valido = True\n",
        "elif(mes ==4 or mes ==6 or mes ==9 or mes ==11):\n",
        "    if(dia <=30):\n",
        "      valido = True\n",
        "elif(mes==2):\n",
        "    if(ano%4 ==0):\n",
        "      if(dia<=28):\n",
        "        valido= True\n",
        "if(valido):\n",
        "    print('data válida')\n",
        "else:\n",
        "    print('data invalida')    \n",
        "\n"
      ],
      "metadata": {
        "colab": {
          "base_uri": "https://localhost:8080/"
        },
        "id": "CFIgQs_hNDxK",
        "outputId": "2f887304-99a7-4545-9656-8301fdd37bc8"
      },
      "execution_count": 41,
      "outputs": [
        {
          "output_type": "stream",
          "name": "stdout",
          "text": [
            "digite o dia:30\n",
            "digite o mes:02\n",
            "digite o ano:2004\n",
            "data invalida\n"
          ]
        }
      ]
    },
    {
      "cell_type": "code",
      "source": [
        "contador = 0\n",
        "a = input('Telefonou para a vítima?')\n",
        "if(a =='sim'or a=='Sim'or a == 's'or a=='S'):\n",
        " contador = contador +1\n",
        "else:\n",
        "  contador = contador +0\n",
        "b = input('Esteve no local do crime?')\n",
        "if(b =='sim'or b=='Sim'or b == 's'or b=='S'):\n",
        "   contador = contador +1\n",
        "else:\n",
        "  contador = contador +0\n",
        "c = input('Mora perto da vítima?')\n",
        "if(c =='sim'or c=='Sim'or c == 's'or c=='S'):\n",
        "   contador = contador +1\n",
        "else:\n",
        "  contador = contador +0\n",
        "d = input('Devia para a vítima?')\n",
        "if(d =='sim'or d=='Sim'or d == 's'or d=='S'):\n",
        "   contador = contador +1\n",
        "else:\n",
        "  contador = contador +0  \n",
        "e = input('Já trabalhou com a vítima?')\n",
        "if(e =='sim'or e=='Sim'or e == 's'or e=='S'):\n",
        "   contador = contador +1\n",
        "else:\n",
        "  contador = contador +0\n",
        "if(contador ==2):\n",
        "  print('Suspeita')\n",
        "if(contador== 3 or contador ==4):\n",
        "  print('Cúmplice')\n",
        "if(contador ==5):\n",
        "  print('Assassino')"
      ],
      "metadata": {
        "colab": {
          "base_uri": "https://localhost:8080/"
        },
        "id": "nnqSxPKAQ96l",
        "outputId": "a2945f32-ff9f-468d-c4f5-8fa78e3aa8f8"
      },
      "execution_count": 52,
      "outputs": [
        {
          "output_type": "stream",
          "name": "stdout",
          "text": [
            "Telefonou para a vítima?s\n",
            "Esteve no local do crime?s\n",
            "Mora perto da vítima?nao\n",
            "Devia para a vítima?n\n",
            "Já trabalhou com a vítima?n\n",
            "Suspeita\n"
          ]
        }
      ]
    }
  ]
}