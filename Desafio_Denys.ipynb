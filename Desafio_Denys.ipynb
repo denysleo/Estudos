{
  "nbformat": 4,
  "nbformat_minor": 0,
  "metadata": {
    "colab": {
      "name": "Desafio_Denys.ipynb",
      "provenance": [],
      "collapsed_sections": [],
      "authorship_tag": "ABX9TyMQXLv7AC9GnpmM7A9xT2R5",
      "include_colab_link": true
    },
    "kernelspec": {
      "name": "python3",
      "display_name": "Python 3"
    },
    "language_info": {
      "name": "python"
    }
  },
  "cells": [
    {
      "cell_type": "markdown",
      "metadata": {
        "id": "view-in-github",
        "colab_type": "text"
      },
      "source": [
        "<a href=\"https://colab.research.google.com/github/denysleo/Estudos/blob/main/Desafio_Denys.ipynb\" target=\"_parent\"><img src=\"https://colab.research.google.com/assets/colab-badge.svg\" alt=\"Open In Colab\"/></a>"
      ]
    },
    {
      "cell_type": "code",
      "execution_count": null,
      "metadata": {
        "colab": {
          "base_uri": "https://localhost:8080/"
        },
        "id": "uiq7qM95ZvU0",
        "outputId": "575d43fb-4196-405d-88eb-8cd9dd0dd410"
      },
      "outputs": [
        {
          "output_type": "stream",
          "name": "stdout",
          "text": [
            "Alo ETE PORTO DIGITAL!\n"
          ]
        }
      ],
      "source": [
        "print('Alo ETE PORTO DIGITAL!')"
      ]
    },
    {
      "cell_type": "code",
      "source": [
        "print('digite um número:')\n",
        "numero = input()\n",
        "print('o número informado foi :'+numero)"
      ],
      "metadata": {
        "colab": {
          "base_uri": "https://localhost:8080/"
        },
        "id": "-FytjFcBZvrB",
        "outputId": "356ec1b2-d954-4910-a319-ce728aa12165"
      },
      "execution_count": null,
      "outputs": [
        {
          "output_type": "stream",
          "name": "stdout",
          "text": [
            "digite um número:\n",
            "5\n",
            "o número informado foi :5\n"
          ]
        }
      ]
    },
    {
      "cell_type": "code",
      "source": [
        "numero1 = int(input('digite o primeiro número:'))\n",
        "numero2 = int(input('digite o segundo número:'))\n",
        "soma = numero1+numero2\n",
        "print(soma)"
      ],
      "metadata": {
        "id": "hPQvlBOrZ3Do"
      },
      "execution_count": null,
      "outputs": []
    },
    {
      "cell_type": "code",
      "source": [
        "nota1= float(input('digite a primeira nota:'))\n",
        "nota2= float(input('digite a segunda nota:'))\n",
        "nota3= float(input('digite a terceira nota:'))\n",
        "nota4 = float(input('digite a quarta nota:'))\n",
        "media = (nota1+nota2+nota3+nota4)/4\n",
        "print(media)"
      ],
      "metadata": {
        "id": "vi2HV_1dZ4I5"
      },
      "execution_count": null,
      "outputs": []
    },
    {
      "cell_type": "code",
      "source": [
        "metro = float(input('digite a medida em metros que deseja converter para centrimetros:'))\n",
        "centimetro = metro *100\n",
        "print(centimetro  )"
      ],
      "metadata": {
        "id": "BVBGW8mmZ6c7"
      },
      "execution_count": null,
      "outputs": []
    },
    {
      "cell_type": "code",
      "source": [
        "raio = float(input('digite o raio da circuferencia que deseja calcular a área:'))\n",
        "area = raio * raio *3.14\n",
        "print('a área é igual a :'+ str(area))"
      ],
      "metadata": {
        "id": "qMCABZ2SZ7hf"
      },
      "execution_count": null,
      "outputs": []
    },
    {
      "cell_type": "code",
      "source": [
        "lado = float(input('digite o tamanho do lado do quadrado'))\n",
        "area = lado * lado\n",
        "print(area*2)"
      ],
      "metadata": {
        "colab": {
          "base_uri": "https://localhost:8080/"
        },
        "id": "CgeexoxPZ8rn",
        "outputId": "0d82e543-35e8-4e46-be54-7f8dd261eadb"
      },
      "execution_count": null,
      "outputs": [
        {
          "output_type": "stream",
          "name": "stdout",
          "text": [
            "digite o tamanho do lado do quadrado5\n",
            "50.0\n"
          ]
        }
      ]
    },
    {
      "cell_type": "code",
      "source": [
        "salario = float(input('digite quanto recebe por hora:'))\n",
        "horas = float(input('digite quantas horas trabalhou:'))\n",
        "recebeu = salario *horas\n",
        "print('voce irá receber:'+ str(recebeu))\n"
      ],
      "metadata": {
        "colab": {
          "base_uri": "https://localhost:8080/"
        },
        "id": "k8VI_kXaZ9uG",
        "outputId": "f1d2848a-e94f-47a4-903d-e250d4eaa419"
      },
      "execution_count": null,
      "outputs": [
        {
          "output_type": "stream",
          "name": "stdout",
          "text": [
            "digite quanto recebe por hora:5\n",
            "digite quantas horas trabalhou:5\n",
            "voce irá receber:25.0\n"
          ]
        }
      ]
    },
    {
      "cell_type": "code",
      "source": [
        "temperatura = float(input('digite a temperatura em Fahrenheit:'))\n",
        "celsius = 5*((temperatura-32)/9)\n",
        "print('a temperatura em celsius é igual a'+' '+str(celsius))"
      ],
      "metadata": {
        "colab": {
          "base_uri": "https://localhost:8080/"
        },
        "id": "NJEtr65CbDJ2",
        "outputId": "d932f07d-8921-42fa-a499-c98d5ea29e2d"
      },
      "execution_count": null,
      "outputs": [
        {
          "output_type": "stream",
          "name": "stdout",
          "text": [
            "digite a temperatura em Fahrenheit:5\n",
            "a temperatura em celsius é igual a -15.0\n"
          ]
        }
      ]
    },
    {
      "cell_type": "code",
      "source": [
        "temperatura = float(input('digite a temperatura em graus celsius:'))\n",
        "fahrenheit = (temperatura*1.8)+32\n",
        "print('a temperatura em fahrenheit é igual a:'+''+str(fahrenheit))"
      ],
      "metadata": {
        "colab": {
          "base_uri": "https://localhost:8080/"
        },
        "id": "WMN-GoAgbqFC",
        "outputId": "50a49750-d4e3-46e3-bdcd-e1eef120cf57"
      },
      "execution_count": null,
      "outputs": [
        {
          "output_type": "stream",
          "name": "stdout",
          "text": [
            "digite a temperatura em graus celsius:10\n",
            "a temperatura em fahrenheit é igual a:50.0\n"
          ]
        }
      ]
    },
    {
      "cell_type": "code",
      "source": [
        "num1 = int(input('digite o primeiro numero inteiro:'))\n",
        "num2 = int(input('digite o segundo numero inteiro:'))\n",
        "num3 = float(input('digite um numero real:'))\n",
        "produto = (num1*2)*(num2/2)\n",
        "soma = (num1*3)+num3\n",
        "cubo = num3*num3*num3\n",
        "print(str(produto)+'\\n'+str(soma)+'\\n'+str(cubo))"
      ],
      "metadata": {
        "id": "I3qeUMpjcK06",
        "colab": {
          "base_uri": "https://localhost:8080/"
        },
        "outputId": "f687bb26-a629-46fb-e983-f83616a68d7a"
      },
      "execution_count": 5,
      "outputs": [
        {
          "output_type": "stream",
          "name": "stdout",
          "text": [
            "digite o primeiro numero inteiro:5\n",
            "digite o segundo numero inteiro:6\n",
            "digite um numero real:5.6\n",
            "30.0\n",
            "20.6\n",
            "175.61599999999996\n"
          ]
        }
      ]
    },
    {
      "cell_type": "code",
      "source": [
        "altura = float(input('digite sua altura:'))\n",
        "peso = (72.7*altura)-58\n",
        "print ('seu peso ideal é:' +''+str(peso))"
      ],
      "metadata": {
        "colab": {
          "base_uri": "https://localhost:8080/"
        },
        "id": "kljy-w8QR7SI",
        "outputId": "c84c3ae6-e948-4527-9bb8-dc981333b00a"
      },
      "execution_count": 7,
      "outputs": [
        {
          "output_type": "stream",
          "name": "stdout",
          "text": [
            "digite sua altura:1.77\n",
            "seu peso ideal é:70.679\n"
          ]
        }
      ]
    },
    {
      "cell_type": "code",
      "source": [
        "sexo = input('digite o seu sexo:')\n",
        "if(sexo == 'masculino' or sexo == 'Masculino'):\n",
        "   alturam = float(input('digite sua altura:'))\n",
        "   pesom = (72.7*altura)-58\n",
        "   print('seu peso ideal é:'+''+str(pesom)) \n",
        "\n",
        "else :\n",
        "    alturaf = float(input('digite sua altura:'))\n",
        "    pesof= (62.1*altura)-44.7\n",
        "    print('seu peso ideal é:'+''+str(pesof))\n"
      ],
      "metadata": {
        "colab": {
          "base_uri": "https://localhost:8080/"
        },
        "id": "6YvqoFbCSR1j",
        "outputId": "7ed1b4f4-fbac-4b04-a97e-dda1f74da07e"
      },
      "execution_count": 17,
      "outputs": [
        {
          "output_type": "stream",
          "name": "stdout",
          "text": [
            "digite o seu sexo:masculino\n",
            "digite sua altura:1.78\n",
            "seu peso ideal é:70.679\n"
          ]
        }
      ]
    },
    {
      "cell_type": "code",
      "source": [
        "peso = float(input('digite o peso de peixes:'))\n",
        "if(peso >50 ):\n",
        "  excesso = peso -50\n",
        "  print('o excedente de peso foi igual a:'+''+str(excesso))\n",
        "  multa = 4*excesso\n",
        "  print('a multa a ser paga deverá ser de:'+''+str(multa))\n",
        "else :\n",
        "  print('não será necessário pagar multa')\n",
        "  "
      ],
      "metadata": {
        "colab": {
          "base_uri": "https://localhost:8080/"
        },
        "id": "6DBTs0hLUj9s",
        "outputId": "fbc5b2f4-814c-4cee-b768-55880edd7ffc"
      },
      "execution_count": 19,
      "outputs": [
        {
          "output_type": "stream",
          "name": "stdout",
          "text": [
            "digite o peso de peixes:60\n",
            "o excedente de peso foi igual a:10.0\n",
            "a multa a ser paga deverá ser de:40.0\n"
          ]
        }
      ]
    },
    {
      "cell_type": "code",
      "source": [
        "tam = float(input('digite o tamanho do arquivo em mb:'))\n",
        "vel= float(input('digite a velocidade da internet em mbps:'))\n",
        "tempo = (tam/vel)/60\n",
        "print('levará:'+''+str(tempo)+'minutos')\n"
      ],
      "metadata": {
        "colab": {
          "base_uri": "https://localhost:8080/"
        },
        "id": "rkC4runNVeiv",
        "outputId": "2c682bf9-53fa-4202-de13-33a1f0316776"
      },
      "execution_count": 24,
      "outputs": [
        {
          "output_type": "stream",
          "name": "stdout",
          "text": [
            "digite o tamanho do arquivo em mb:10000\n",
            "digite a velocidade da internet em mbps:10\n",
            "levará:16.666666666666668minutos\n"
          ]
        }
      ]
    }
  ]
}