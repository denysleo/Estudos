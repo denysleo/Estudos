{
  "nbformat": 4,
  "nbformat_minor": 0,
  "metadata": {
    "colab": {
      "name": "Desafio",
      "provenance": [],
      "authorship_tag": "ABX9TyNXgNtPfE85VrASJ38+Vqze",
      "include_colab_link": true
    },
    "kernelspec": {
      "name": "python3",
      "display_name": "Python 3"
    },
    "language_info": {
      "name": "python"
    }
  },
  "cells": [
    {
      "cell_type": "markdown",
      "metadata": {
        "id": "view-in-github",
        "colab_type": "text"
      },
      "source": [
        "<a href=\"https://colab.research.google.com/github/denysleo/Estudos/blob/main/Desafio.ipynb\" target=\"_parent\"><img src=\"https://colab.research.google.com/assets/colab-badge.svg\" alt=\"Open In Colab\"/></a>"
      ]
    },
    {
      "cell_type": "code",
      "execution_count": null,
      "metadata": {
        "id": "Z_lQfWRd9Cmv",
        "outputId": "a61c3648-59ba-498a-bddf-fb27c8dc087f",
        "colab": {
          "base_uri": "https://localhost:8080/"
        }
      },
      "outputs": [
        {
          "output_type": "stream",
          "name": "stdout",
          "text": [
            "nome 1\n"
          ]
        }
      ],
      "source": [
        "nomes = [ ]\n",
        "idades = [ ]\n",
        "for n in range(0,5):\n",
        "     print ('nome', n+1)\n",
        "     nome = input('digite o nome:')\n",
        "     nomes.append(nome)\n",
        "for i in range(0,5):\n",
        "     print('idade',i+1)\n",
        "     idade=input('digite a idade:')\n",
        "     idades.append(idade)\n",
        "     ordem= sorted(idades, reverse = True)\n",
        "print(nomes)\n",
        "print(ordem)"
      ]
    }
  ]
}