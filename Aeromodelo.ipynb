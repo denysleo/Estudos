{
  "nbformat": 4,
  "nbformat_minor": 0,
  "metadata": {
    "colab": {
      "name": "Aeromodelo.ipynb",
      "provenance": [],
      "authorship_tag": "ABX9TyNxF75yvbQi1CfJIdqhjk2q",
      "include_colab_link": true
    },
    "kernelspec": {
      "name": "python3",
      "display_name": "Python 3"
    },
    "language_info": {
      "name": "python"
    }
  },
  "cells": [
    {
      "cell_type": "markdown",
      "metadata": {
        "id": "view-in-github",
        "colab_type": "text"
      },
      "source": [
        "<a href=\"https://colab.research.google.com/github/denysleo/Estudos/blob/main/Aeromodelo.ipynb\" target=\"_parent\"><img src=\"https://colab.research.google.com/assets/colab-badge.svg\" alt=\"Open In Colab\"/></a>"
      ]
    },
    {
      "cell_type": "code",
      "execution_count": 24,
      "metadata": {
        "colab": {
          "base_uri": "https://localhost:8080/"
        },
        "id": "t9r9rXuIhV8J",
        "outputId": "82f53a45-5194-4fd0-8446-373e29f34afe"
      },
      "outputs": [
        {
          "output_type": "stream",
          "name": "stdout",
          "text": [
            "acelerar=1\n",
            "decolar=2\n",
            "planar=3\n",
            "função piloto automatico=4\n",
            "pousar=5\n",
            "selecione o comando: 3\n",
            "avião planando\n"
          ]
        }
      ],
      "source": [
        "#ETE PORTO DIGITAL\n",
        "#ALUNOS: Denys Leonardo, Eduardo Cordeiro\n",
        "\n",
        "Comandos = ['acelerar=1', 'decolar=2','planar=3', 'função piloto automatico=4','pousar=5']\n",
        "for n in Comandos:\n",
        " print(n)\n",
        " acelerar=1\n",
        " decolar=2\n",
        " planar=3\n",
        " função_piloto_automatico =4\n",
        " pousar=5\n",
        "escolha=int(input('selecione o comando: '))\n",
        "if escolha == 1:\n",
        " print(\"avião acelerando\")\n",
        "elif escolha == 2:\n",
        "   print(\"avião decolou\")\n",
        "elif escolha == 3:\n",
        "  print(\"avião planando\")\n",
        "elif escolha == 4:\n",
        "  print(\"piloto automatico ativado\")\n",
        "elif escolha == 5:\n",
        "  print(\"avião pousando\")\n",
        "else :\n",
        "  print(\"selecione um comando disponivel\")\n",
        "\n"
      ]
    },
    {
      "cell_type": "code",
      "source": [
        ""
      ],
      "metadata": {
        "id": "-T3sgUkum2Hi"
      },
      "execution_count": null,
      "outputs": []
    }
  ]
}