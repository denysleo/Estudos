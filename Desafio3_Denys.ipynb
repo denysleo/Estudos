{
  "nbformat": 4,
  "nbformat_minor": 0,
  "metadata": {
    "colab": {
      "name": "Desafio3_Denys.ipynb",
      "provenance": [],
      "collapsed_sections": [],
      "authorship_tag": "ABX9TyNvEWrHTRo3/5LX+hRpV7aj",
      "include_colab_link": true
    },
    "kernelspec": {
      "name": "python3",
      "display_name": "Python 3"
    },
    "language_info": {
      "name": "python"
    }
  },
  "cells": [
    {
      "cell_type": "markdown",
      "metadata": {
        "id": "view-in-github",
        "colab_type": "text"
      },
      "source": [
        "<a href=\"https://colab.research.google.com/github/denysleo/Estudos/blob/main/Desafio3_Denys.ipynb\" target=\"_parent\"><img src=\"https://colab.research.google.com/assets/colab-badge.svg\" alt=\"Open In Colab\"/></a>"
      ]
    },
    {
      "cell_type": "code",
      "execution_count": null,
      "metadata": {
        "id": "zZPOMddXyQrQ"
      },
      "outputs": [],
      "source": [
        "nota=float(input('digite uma nota no intervalo entre 0 e 10:'))\n",
        "while(nota>10 or nota<0):\n",
        "  nota=float(input('digite um valor dentro do intevalo:'))"
      ]
    },
    {
      "cell_type": "code",
      "source": [
        "usuario=str(input('digite o nome de usuário:'))\n",
        "senha=str(input('digite a senha:'))\n",
        "while(usuario==senha):\n",
        "  print('digite uma senha diferente do nome de usuário!')\n",
        "  usuario=str(input('digite o nome de usuário:'))\n",
        "  senha=str(input('digite a senha:'))\n",
        "else:\n",
        "  print('cadastro efetuado')"
      ],
      "metadata": {
        "colab": {
          "base_uri": "https://localhost:8080/"
        },
        "id": "srVSIAfOyspn",
        "outputId": "62f9e94f-5e3f-4c0e-b806-f1d9ecb47879"
      },
      "execution_count": null,
      "outputs": [
        {
          "output_type": "stream",
          "name": "stdout",
          "text": [
            "digite o nome de usuário:denys\n",
            "digite a senha:denys\n",
            "digite uma senha diferente do nome de usuário!\n",
            "digite o nome de usuário:denys\n",
            "digite a senha:aa\n",
            "cadastro efetuado\n"
          ]
        }
      ]
    },
    {
      "cell_type": "code",
      "source": [
        "a=80000\n",
        "b=200000\n",
        "taxaA=0.03\n",
        "taxaB=0.015\n",
        "ano=0\n",
        "while(a<b):\n",
        "  a=a+(a*taxaA)\n",
        "  b=b+(b*taxaB)\n",
        "  ano=ano+1\n",
        "print('Serão necessários'+' '+str(ano)+' '+'anos para que a população de A ultrapasse a de B' )\n"
      ],
      "metadata": {
        "colab": {
          "base_uri": "https://localhost:8080/"
        },
        "id": "ogSg7emMzoBO",
        "outputId": "555336a0-0604-435c-e424-83edfca3ef3c"
      },
      "execution_count": null,
      "outputs": [
        {
          "output_type": "stream",
          "name": "stdout",
          "text": [
            "Serão necessários 63 anos para que a população de A ultrapasse a de B\n"
          ]
        }
      ]
    },
    {
      "cell_type": "code",
      "source": [
        "a=float(input('digite a população de A:'))\n",
        "b=float(input('digite a população de B:'))\n",
        "taxaA=float(input('digite a taxa de crescimento de A:'))\n",
        "taxaB=float(input('digite a taxa de crescimento de B:'))\n",
        "ano=0\n",
        "while(a<b):\n",
        "  a=a+(a*taxaA)\n",
        "  b=b+(b*taxaB)\n",
        "  ano=ano+1\n",
        " print('Serão necessários'+' '+str(ano)+' '+'anos para que a população de A ultrapasse a de B') "
      ],
      "metadata": {
        "id": "_cDPsF5G0yX_"
      },
      "execution_count": null,
      "outputs": []
    },
    {
      "cell_type": "code",
      "source": [
        "for i in range(21):\n",
        "  print(i)\n",
        "print(list(range(1,21))) "
      ],
      "metadata": {
        "colab": {
          "base_uri": "https://localhost:8080/"
        },
        "id": "6_EUrWyHbStL",
        "outputId": "4e941938-0595-4331-fe9e-70304032b489"
      },
      "execution_count": 2,
      "outputs": [
        {
          "output_type": "stream",
          "name": "stdout",
          "text": [
            "0\n",
            "1\n",
            "2\n",
            "3\n",
            "4\n",
            "5\n",
            "6\n",
            "7\n",
            "8\n",
            "9\n",
            "10\n",
            "11\n",
            "12\n",
            "13\n",
            "14\n",
            "15\n",
            "16\n",
            "17\n",
            "18\n",
            "19\n",
            "20\n",
            "[1, 2, 3, 4, 5, 6, 7, 8, 9, 10, 11, 12, 13, 14, 15, 16, 17, 18, 19, 20]\n"
          ]
        }
      ]
    },
    {
      "cell_type": "code",
      "source": [
        "numeros=[]\n",
        "for n in range(1,6):\n",
        "  numeros.append(int(input(\"digite um numero:\")))\n",
        "maior=numeros[0]\n",
        "contador=1\n",
        "while contador<len(numeros):\n",
        "  if(numeros[contador]>maior):\n",
        "    maior=numeros[contador]\n",
        "    6contador= contador + 1\n",
        "print(\"o amior numero é:\"+str(maior))"
      ],
      "metadata": {
        "colab": {
          "base_uri": "https://localhost:8080/"
        },
        "id": "QgKU5ap3brHj",
        "outputId": "d80598a1-7180-4763-be58-f5598b06dfba"
      },
      "execution_count": 7,
      "outputs": [
        {
          "output_type": "stream",
          "name": "stdout",
          "text": [
            "digite um numero:1\n",
            "digite um numero:2\n",
            "digite um numero:3\n",
            "digite um numero:4\n",
            "digite um numero:5\n",
            "o amior numero é:5\n"
          ]
        }
      ]
    },
    {
      "cell_type": "code",
      "source": [
        "num1=float(input(\"digite o primeiro numero:\"))\n",
        "num2=float(input(\"digite o segundo numero:\"))\n",
        "num3=float(input(\"digite o terceiro numero:\"))\n",
        "num4=float(input(\"digite o quarto numero:\"))\n",
        "num5=float(input(\"digite o quinto numero:\"))\n",
        "soma = num1+num2+num3+num4+num5\n",
        "print(\"soma=\"+str(soma))\n",
        "print(\"média=\"+str(soma/5))"
      ],
      "metadata": {
        "colab": {
          "base_uri": "https://localhost:8080/"
        },
        "id": "QKHGN_jRcSPk",
        "outputId": "3769470d-ce6b-48ce-a86b-0f4f2737bcfc"
      },
      "execution_count": 8,
      "outputs": [
        {
          "output_type": "stream",
          "name": "stdout",
          "text": [
            "digite o primeiro numero:5\n",
            "digite o segundo numero:5\n",
            "digite o terceiro numero:5\n",
            "digite o quarto numero:5\n",
            "digite o quinto numero:5\n",
            "soma=25.0\n",
            "média=5.0\n"
          ]
        }
      ]
    },
    {
      "cell_type": "code",
      "source": [
        "for n in range(1,51,2):\n",
        "  print(n)"
      ],
      "metadata": {
        "colab": {
          "base_uri": "https://localhost:8080/"
        },
        "id": "RoNH8nF4dB-V",
        "outputId": "d5b55b25-5906-4d44-abd3-20946a02148a"
      },
      "execution_count": 26,
      "outputs": [
        {
          "output_type": "stream",
          "name": "stdout",
          "text": [
            "1\n",
            "3\n",
            "5\n",
            "7\n",
            "9\n",
            "11\n",
            "13\n",
            "15\n",
            "17\n",
            "19\n",
            "21\n",
            "23\n",
            "25\n",
            "27\n",
            "29\n",
            "31\n",
            "33\n",
            "35\n",
            "37\n",
            "39\n",
            "41\n",
            "43\n",
            "45\n",
            "47\n",
            "49\n"
          ]
        }
      ]
    },
    {
      "cell_type": "code",
      "source": [
        "num1=int(input(\"digite um numero:\"))\n",
        "num2= int(input(\"digite o segundo numero:\"))\n",
        "while(num2<num1):\n",
        "  num1=int(input(\"digite um numero:\"))\n",
        "  num2=int(input(\"digite outro numero:\"))\n",
        "else:\n",
        "  for n in range(num1,num2,1):\n",
        "    print(n)"
      ],
      "metadata": {
        "colab": {
          "base_uri": "https://localhost:8080/"
        },
        "id": "IKyx5cLSelba",
        "outputId": "f2375c76-1723-409d-cacc-75850ebd0094"
      },
      "execution_count": 12,
      "outputs": [
        {
          "output_type": "stream",
          "name": "stdout",
          "text": [
            "digite um numero:10\n",
            "digite o segundo numero:5\n",
            "digite um numero:5\n",
            "digite outro numero:10\n",
            "5\n",
            "6\n",
            "7\n",
            "8\n",
            "9\n"
          ]
        }
      ]
    },
    {
      "cell_type": "code",
      "source": [
        "num1=int(input(\"digite um numero:\"))\n",
        "num2= int(input(\"digite o segundo numero:\"))\n",
        "while(num2<num1):\n",
        "  num1=int(input(\"digite um numero:\"))\n",
        "  num2=int(input(\"digite outro numero:\"))\n",
        "else:\n",
        "  for n in range(num1,num2,1):\n",
        "    print(n)"
      ],
      "metadata": {
        "id": "gH-Ms5p9fBNC"
      },
      "execution_count": null,
      "outputs": []
    },
    {
      "cell_type": "code",
      "source": [
        "quantidade=int(input(\"digite a quantidade de cds:\"))\n",
        "contador =0 \n",
        "valortotal =0\n",
        "for n in range(quantidade):\n",
        "  valorcd=float(input(\"digite o valor do cd:\"))\n",
        "  valortotal=valortotal+valorcd\n",
        "  valormedio=valortotal/quantidade\n",
        "  contador =contador +1\n",
        "print(\"o valor total gasto foi de:\"+\" \"+str(valortotal))\n",
        "print(\"o valor médio gasto por cada cd foi de:\"+\" \"+str(valormedio)) "
      ],
      "metadata": {
        "colab": {
          "base_uri": "https://localhost:8080/"
        },
        "id": "c5fyAZYSfwKf",
        "outputId": "7334222a-86a7-4980-f0c5-611532f3b76c"
      },
      "execution_count": 13,
      "outputs": [
        {
          "output_type": "stream",
          "name": "stdout",
          "text": [
            "digite a quantidade de cds:10\n",
            "digite o valor do cd:5\n",
            "digite o valor do cd:5\n",
            "digite o valor do cd:5\n",
            "digite o valor do cd:5\n",
            "digite o valor do cd:5\n",
            "digite o valor do cd:5\n",
            "digite o valor do cd:5\n",
            "digite o valor do cd:5\n",
            "digite o valor do cd:5\n",
            "digite o valor do cd:5\n",
            "o valor total gasto foi de: 50.0\n",
            "o valor médio gasto por cada cd foi de: 5.0\n"
          ]
        }
      ]
    },
    {
      "cell_type": "code",
      "source": [
        "num_maior=0\n",
        "num_menor=0\n",
        "aluno_mais_alto=0\n",
        "aluno_mais_baixo=2.40\n",
        "for n in range(1,11):\n",
        "  numero=int(input(\"informe seu numero:\"))\n",
        "  altura=float(input(\"informe sua altura:\"))\n",
        "if(altura>aluno_mais_alto):\n",
        "   aluno_mais_alto=altura\n",
        "   num_maior=numero\n",
        "if(altura<aluno_mais_baixo):\n",
        "   aluno_mais_baixo=altura\n",
        "   num_menor=numero\n",
        "print(\"aluno mais alto:\"+\" \"+str(num_maior)+\"altura:\"+\" \"+str(aluno_mais_alto)+\"aluno mais baixo:\"+\" \"+str(num_menor)+\"altura:\"+\" \"+str(aluno_mais_baixo)) "
      ],
      "metadata": {
        "colab": {
          "base_uri": "https://localhost:8080/"
        },
        "id": "FmjISrmvgvYT",
        "outputId": "3537d221-7a66-4ded-ccd8-ec5b694c292b"
      },
      "execution_count": 23,
      "outputs": [
        {
          "output_type": "stream",
          "name": "stdout",
          "text": [
            "informe seu numero:1\n",
            "informe sua altura:1.50\n",
            "informe seu numero:2\n",
            "informe sua altura:1.55\n",
            "informe seu numero:3\n",
            "informe sua altura:1.67\n",
            "informe seu numero:4\n",
            "informe sua altura:1.70\n",
            "informe seu numero:5\n",
            "informe sua altura:1.76\n",
            "informe seu numero:6\n",
            "informe sua altura:1.80\n",
            "informe seu numero:7\n",
            "informe sua altura:1.50\n",
            "informe seu numero:8\n",
            "informe sua altura:1.67\n",
            "informe seu numero:9\n",
            "informe sua altura:1.71\n",
            "informe seu numero:10\n",
            "informe sua altura:1.70\n",
            "aluno mais alto: 10altura: 1.7aluno mais baixo: 10altura: 1.7\n"
          ]
        }
      ]
    },
    {
      "cell_type": "code",
      "source": [
        "n=1\n",
        "contador1=0\n",
        "contador2=0\n",
        "contador3=0\n",
        "contador4=0\n",
        "while n>0:\n",
        "  n=int(input(\"digite um numero:\"))\n",
        "  if(n>=0 and n<=25):\n",
        "    contador1=contador1+1\n",
        "  elif(n>=26 and n<=50):\n",
        "    contador2=contador2+1\n",
        "  elif(n>=51 and n<=75):\n",
        "    contador3=contador3+1\n",
        "  elif(n>=76 and n<=100):\n",
        "    contador4=contador4+1\n",
        "print(\"a quantidade de numeros entre 0 e 25 é:\"+\" \"+str(contador1)+\",entre 26-50 é:\"+\" \"+str(contador2)+\",entre 51-75 é:\"+\" \"+str(contador3)+\",entre 76 e 100 é:\"+\" \"+str(contador4))"
      ],
      "metadata": {
        "colab": {
          "base_uri": "https://localhost:8080/"
        },
        "id": "-LjCjzgiixG3",
        "outputId": "e6fae726-cd28-4355-ef18-6c49ac9deee0"
      },
      "execution_count": 22,
      "outputs": [
        {
          "output_type": "stream",
          "name": "stdout",
          "text": [
            "digite um numero:5\n",
            "digite um numero:10\n",
            "digite um numero:50\n",
            "digite um numero:96\n",
            "digite um numero:54\n",
            "digite um numero:40\n",
            "digite um numero:14\n",
            "digite um numero:-10\n",
            "a quantidade de numeros entre 0 e 25 é: 3,entre 26-50 é: 2,entre 51-75 é: 1,entre 76 e 100 é: 1\n"
          ]
        }
      ]
    },
    {
      "cell_type": "code",
      "source": [
        "soma = 0\n",
        "numero= int(input(\"digite n:\"))\n",
        "m=1\n",
        "print(\"s=\",end=\"\")\n",
        "for i in range(1,n+1):\n",
        "  print(f\"{i}/{m}\", end=\"\")\n",
        "  if i<n and n >1:\n",
        "    print(\"+\",end=\"\")\n",
        "  else:\n",
        "    print(\".\")\n",
        "  soma += i/m\n",
        "  m += 2\n",
        "print(f\"a soma da série deu:\"+str(soma))"
      ],
      "metadata": {
        "colab": {
          "base_uri": "https://localhost:8080/"
        },
        "id": "aHDrGgXjlIqC",
        "outputId": "0c6a6dec-6e36-465b-fe36-02664ba2358c"
      },
      "execution_count": 33,
      "outputs": [
        {
          "output_type": "stream",
          "name": "stdout",
          "text": [
            "digite n:15\n",
            "s=1/1+2/3+3/5+4/7+5/9+6/11+7/13+8/15+9/17+10/19+11/21+12/23+13/25+14/27+15/29+16/31+17/33+18/35+19/37+20/39+21/41+22/43+23/45+24/47+25/49+26/51+27/53+28/55+29/57+30/59+31/61+32/63+33/65+34/67+35/69+36/71+37/73+38/75+39/77+40/79+41/81+42/83+43/85+44/87+45/89+46/91+47/93+48/95+49/97.\n",
            "a soma da série deu:25.963836919186946\n"
          ]
        }
      ]
    }
  ]
}